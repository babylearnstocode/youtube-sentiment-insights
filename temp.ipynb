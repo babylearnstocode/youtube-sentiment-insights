{
 "cells": [
  {
   "cell_type": "code",
   "execution_count": 1,
   "id": "9ab72434",
   "metadata": {},
   "outputs": [
    {
     "name": "stderr",
     "output_type": "stream",
     "text": [
      "2025/10/23 17:46:09 INFO mlflow.tracking._tracking_service.client: 🏃 View run casual-koi-388 at: http://ec2-3-73-40-104.eu-central-1.compute.amazonaws.com:5000/#/experiments/0/runs/e8b07662a379438c928bd13a775cd274.\n",
      "2025/10/23 17:46:09 INFO mlflow.tracking._tracking_service.client: 🧪 View experiment at: http://ec2-3-73-40-104.eu-central-1.compute.amazonaws.com:5000/#/experiments/0.\n"
     ]
    }
   ],
   "source": [
    "import mlflow\n",
    "from dotenv import load_dotenv\n",
    "import os\n",
    "load_dotenv()\n",
    "mlflow_tracking_uri = os.getenv(\"MLFLOW_TRACKING_URI\")\n",
    "\n",
    "mlflow.set_tracking_uri(mlflow_tracking_uri)\n",
    "\n",
    "with mlflow.start_run():\n",
    "    mlflow.log_param(\"param1\", 5)\n",
    "    mlflow.log_metric(\"foo\", 2.5)"
   ]
  },
  {
   "cell_type": "code",
   "execution_count": null,
   "id": "d8cd22a4",
   "metadata": {},
   "outputs": [],
   "source": [
    "import numpy as np\n",
    "import pandas as pd\n",
    "\n",
    "df = pd.read_csv(\"https://github.com/Himanshu-1703/reddit-sentiment-analysis.git\")"
   ]
  }
 ],
 "metadata": {
  "kernelspec": {
   "display_name": "mlops",
   "language": "python",
   "name": "python3"
  },
  "language_info": {
   "codemirror_mode": {
    "name": "ipython",
    "version": 3
   },
   "file_extension": ".py",
   "mimetype": "text/x-python",
   "name": "python",
   "nbconvert_exporter": "python",
   "pygments_lexer": "ipython3",
   "version": "3.11.14"
  }
 },
 "nbformat": 4,
 "nbformat_minor": 5
}
